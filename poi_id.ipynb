{
 "cells": [
  {
   "cell_type": "code",
   "execution_count": 17,
   "metadata": {
    "scrolled": false
   },
   "outputs": [
    {
     "name": "stdout",
     "output_type": "stream",
     "text": [
      "Total number of data points :  146\n",
      "Total number of poi :  18\n",
      "Total number of non-poi :  128\n",
      "Total number of data points with missing values :\n",
      "poi 0\n",
      "None\n",
      "salary 51\n",
      "None\n",
      "to_messages 60\n",
      "None\n",
      "deferral_payments 107\n",
      "None\n",
      "total_payments 21\n",
      "None\n",
      "exercised_stock_options 44\n",
      "None\n",
      "bonus 64\n",
      "None\n",
      "restricted_stock 36\n",
      "None\n",
      "shared_receipt_with_poi 60\n",
      "None\n",
      "restricted_stock_deferred 128\n",
      "None\n",
      "total_stock_value 20\n",
      "None\n",
      "expenses 51\n",
      "None\n",
      "loan_advances 142\n",
      "None\n",
      "from_messages 60\n",
      "None\n",
      "other 53\n",
      "None\n",
      "from_this_person_to_poi 60\n",
      "None\n",
      "director_fees 129\n",
      "None\n",
      "deferred_income 97\n",
      "None\n",
      "long_term_incentive 80\n",
      "None\n",
      "from_poi_to_this_person 60\n",
      "None\n"
     ]
    }
   ],
   "source": [
    "# Build a person of interest identifier based on financial and email data made public as a result of the Enron scandal. \n",
    "# To assist you in your detective work, we've combined this data with a hand-generated list of persons of interest in the \n",
    "# fraud case, which means individuals who were indicted, reached a settlement or plea deal with the government, or testified \n",
    "# in exchange for prosecution immunity.\n",
    "\n",
    "import sys\n",
    "import pickle\n",
    "sys.path.append(\"../tools/\")\n",
    "\n",
    "from feature_format import featureFormat, targetFeatureSplit\n",
    "from tester import dump_classifier_and_data\n",
    "import matplotlib.pyplot\n",
    "import numpy as np\n",
    "import pandas as pd\n",
    "\n",
    "### Task 1: Select what features you'll use.\n",
    "### features_list is a list of strings, each of which is a feature name.\n",
    "### The first feature must be \"poi\".\n",
    "features_list = ['poi', 'salary', 'to_messages', 'deferral_payments', 'total_payments', 'exercised_stock_options', 'bonus', \n",
    "                 'restricted_stock', 'shared_receipt_with_poi', 'restricted_stock_deferred', 'total_stock_value', 'expenses', \n",
    "                 'loan_advances', 'from_messages', 'other', 'from_this_person_to_poi', 'director_fees', \n",
    "                 'deferred_income', 'long_term_incentive', 'from_poi_to_this_person'] \n",
    "# I'm starting out by using all features because I don't know which features are most important yet, and I don't want to\n",
    "# accidentally throw an important feature out. \n",
    "\n",
    "### Load the dictionary containing the dataset\n",
    "with open(\"final_project_dataset.pkl\", \"r\") as data_file:\n",
    "    data_dict = pickle.load(data_file)\n",
    "\n",
    "print \"Total number of data points : \", sum([1 for key in data_dict.keys()])\n",
    "print \"Total number of poi : \", sum([1 for key in data_dict.keys() if data_dict[key]['poi']])\n",
    "print \"Total number of non-poi : \", sum([1 for key in data_dict.keys() if not data_dict[key]['poi']])\n",
    "                                                   \n",
    "def count_features(feature):\n",
    "    print feature, sum([1 for key in data_dict.keys() if data_dict[key][feature] == 'NaN'])\n",
    "    \n",
    "print \"Total number of data points with missing values :\"\n",
    "for j in features_list:\n",
    "    print count_features(j)\n"
   ]
  },
  {
   "cell_type": "code",
   "execution_count": 18,
   "metadata": {},
   "outputs": [
    {
     "data": {
      "image/png": "[encoded data removed]",
      "text/plain": [
       "<matplotlib.figure.Figure at 0x66ba400>"
      ]
     },
     "metadata": {},
     "output_type": "display_data"
    },
    {
     "name": "stdout",
     "output_type": "stream",
     "text": [
      "TOTAL salary : 26704229 bonus : 97343619\n"
     ]
    }
   ],
   "source": [
    "### Task 2: Remove outliers\n",
    "# visually look at salary to see if there are any apparent outliers\n",
    "\n",
    "data = featureFormat(data_dict, features_list)\n",
    "\n",
    "### your code below\n",
    "for point in data:\n",
    "    salary = point[1]\n",
    "    bonus = point[6]\n",
    "    matplotlib.pyplot.scatter( salary, bonus )\n",
    "\n",
    "matplotlib.pyplot.xlabel(\"salary\")\n",
    "matplotlib.pyplot.ylabel(\"bonus\")\n",
    "matplotlib.pyplot.show()\n",
    "\n",
    "# there seems to be one outlier with a very high salary and bonus\n",
    "for k,v in data_dict.iteritems(): \n",
    "    if data_dict[k]['bonus'] > 700000 and data_dict[k]['salary'] > 2000000 and data_dict[k]['salary'] != 'NaN' \\\n",
    "    and data_dict[k]['bonus'] != 'NaN':\n",
    "        print k, 'salary :', data_dict[k]['salary'] , 'bonus :',data_dict[k]['bonus']\n",
    "\n",
    "# TOTAL is the total sum of all data values for every person, shouldn't be included in the data set.  \n",
    "\n",
    "#\n",
    "enron_data.replace(to_replace='NaN', value=0.0, inplace=True)\n"
   ]
  },
  {
   "cell_type": "code",
   "execution_count": 19,
   "metadata": {},
   "outputs": [
    {
     "name": "stdout",
     "output_type": "stream",
     "text": [
      "WHALEY DAVID A 18\n",
      "WROBEL BRUCE 18\n",
      "LOCKHART EUGENE E 20\n",
      "THE TRAVEL AGENCY IN THE PARK 18\n",
      "GRAMM WENDY L 18\n",
      "WHALEY DAVID A {'salary': 0, 'to_messages': 0, 'deferral_payments': 0, 'total_payments': 0, 'exercised_stock_options': 98718, 'bonus': 0, 'restricted_stock': 0, 'shared_receipt_with_poi': 0, 'restricted_stock_deferred': 0, 'total_stock_value': 98718, 'expenses': 0, 'loan_advances': 0, 'from_messages': 0, 'other': 0, 'from_this_person_to_poi': 0, 'poi': False, 'director_fees': 0, 'deferred_income': 0, 'long_term_incentive': 0, 'email_address': 0, 'from_poi_to_this_person': 0}\n",
      "WROBEL BRUCE {'salary': 0, 'to_messages': 0, 'deferral_payments': 0, 'total_payments': 0, 'exercised_stock_options': 139130, 'bonus': 0, 'restricted_stock': 0, 'shared_receipt_with_poi': 0, 'restricted_stock_deferred': 0, 'total_stock_value': 139130, 'expenses': 0, 'loan_advances': 0, 'from_messages': 0, 'other': 0, 'from_this_person_to_poi': 0, 'poi': False, 'director_fees': 0, 'deferred_income': 0, 'long_term_incentive': 0, 'email_address': 0, 'from_poi_to_this_person': 0}\n",
      "LOCKHART EUGENE E {'salary': 0, 'to_messages': 0, 'deferral_payments': 0, 'total_payments': 0, 'exercised_stock_options': 0, 'bonus': 0, 'restricted_stock': 0, 'shared_receipt_with_poi': 0, 'restricted_stock_deferred': 0, 'total_stock_value': 0, 'expenses': 0, 'loan_advances': 0, 'from_messages': 0, 'other': 0, 'from_this_person_to_poi': 0, 'poi': False, 'director_fees': 0, 'deferred_income': 0, 'long_term_incentive': 0, 'email_address': 0, 'from_poi_to_this_person': 0}\n",
      "THE TRAVEL AGENCY IN THE PARK {'salary': 0, 'to_messages': 0, 'deferral_payments': 0, 'total_payments': 362096, 'exercised_stock_options': 0, 'bonus': 0, 'restricted_stock': 0, 'shared_receipt_with_poi': 0, 'restricted_stock_deferred': 0, 'total_stock_value': 0, 'expenses': 0, 'loan_advances': 0, 'from_messages': 0, 'other': 362096, 'from_this_person_to_poi': 0, 'poi': False, 'director_fees': 0, 'deferred_income': 0, 'long_term_incentive': 0, 'email_address': 0, 'from_poi_to_this_person': 0}\n",
      "GRAMM WENDY L {'salary': 0, 'to_messages': 0, 'deferral_payments': 0, 'total_payments': 119292, 'exercised_stock_options': 0, 'bonus': 0, 'restricted_stock': 0, 'shared_receipt_with_poi': 0, 'restricted_stock_deferred': 0, 'total_stock_value': 0, 'expenses': 0, 'loan_advances': 0, 'from_messages': 0, 'other': 0, 'from_this_person_to_poi': 0, 'poi': False, 'director_fees': 119292, 'deferred_income': 0, 'long_term_incentive': 0, 'email_address': 0, 'from_poi_to_this_person': 0}\n"
     ]
    }
   ],
   "source": [
    "# for each employee, print the number of features with the value of NaN if it is unusually high. Total number of features is 20.\n",
    "for k,v in data_dict.iteritems():\n",
    "    count = 0\n",
    "    for i,j in v.iteritems():\n",
    "        # change NaN to 0\n",
    "        if j == 'NaN':\n",
    "            count +=1\n",
    "            data_dict[k][i] = 0\n",
    "    if count > 17:\n",
    "        print k, count    \n",
    "print 'WHALEY DAVID A', data_dict['WHALEY DAVID A']\n",
    "print 'WROBEL BRUCE', data_dict['WROBEL BRUCE']\n",
    "print 'LOCKHART EUGENE E', data_dict['LOCKHART EUGENE E']\n",
    "print 'THE TRAVEL AGENCY IN THE PARK', data_dict['THE TRAVEL AGENCY IN THE PARK']\n",
    "print 'GRAMM WENDY L', data_dict['GRAMM WENDY L']\n",
    "\n",
    "# 'LOCKHART EUGENE E' does not have any valid data points, so it can be removed. \n",
    "# 'THE TRAVEL AGENCY IN THE PARK' doesn't seem like it is an actual person, so it also can be removed."
   ]
  },
  {
   "cell_type": "code",
   "execution_count": 20,
   "metadata": {},
   "outputs": [
    {
     "data": {
      "text/plain": [
       "{'bonus': 97343619,\n",
       " 'deferral_payments': 32083396,\n",
       " 'deferred_income': -27992891,\n",
       " 'director_fees': 1398517,\n",
       " 'email_address': 0,\n",
       " 'exercised_stock_options': 311764000,\n",
       " 'expenses': 5235198,\n",
       " 'from_messages': 0,\n",
       " 'from_poi_to_this_person': 0,\n",
       " 'from_this_person_to_poi': 0,\n",
       " 'loan_advances': 83925000,\n",
       " 'long_term_incentive': 48521928,\n",
       " 'other': 42667589,\n",
       " 'poi': False,\n",
       " 'restricted_stock': 130322299,\n",
       " 'restricted_stock_deferred': -7576788,\n",
       " 'salary': 26704229,\n",
       " 'shared_receipt_with_poi': 0,\n",
       " 'to_messages': 0,\n",
       " 'total_payments': 309886585,\n",
       " 'total_stock_value': 434509511}"
      ]
     },
     "execution_count": 20,
     "metadata": {},
     "output_type": "execute_result"
    }
   ],
   "source": [
    "#remove the outliers\n",
    "data_dict.pop('LOCKHART EUGENE E', 0)\n",
    "data_dict.pop('THE TRAVEL AGENCY IN THE PARK', 0)\n",
    "data_dict.pop('TOTAL', 0)"
   ]
  },
  {
   "cell_type": "code",
   "execution_count": 21,
   "metadata": {},
   "outputs": [
    {
     "data": {
      "image/png": "[encoded data removed]",
      "text/plain": [
       "<matplotlib.figure.Figure at 0xda69b38>"
      ]
     },
     "metadata": {},
     "output_type": "display_data"
    }
   ],
   "source": [
    "data = featureFormat(data_dict, features_list)\n",
    "### your code below\n",
    "for point in data:\n",
    "    salary = point[1]\n",
    "    bonus = point[6]\n",
    "    matplotlib.pyplot.scatter( salary, bonus )\n",
    "\n",
    "matplotlib.pyplot.xlabel(\"salary\")\n",
    "matplotlib.pyplot.ylabel(\"bonus\")\n",
    "matplotlib.pyplot.show()\n",
    "\n",
    "# the data looks way better now. There are a few more data points that look like outliers, but I want to keep them as they are\n",
    "# probably the people of interest."
   ]
  },
  {
   "cell_type": "code",
   "execution_count": 67,
   "metadata": {},
   "outputs": [],
   "source": [
    "### Task 3: Create new feature(s)\n",
    "\n",
    "# Using my intuition, I'm thinking that the people we want to look at would have an unusually high ratio of salary \n",
    "# + bonus over total payments. Lastly, there would be an usually high number of emails between the people of interest and\n",
    "# shared receipts of email. \n",
    "from sklearn.feature_selection import SelectKBest, f_classif\n",
    "\n",
    "for key in data_dict:\n",
    "\n",
    "    bonus = data_dict[key][\"bonus\"]\n",
    "    salary = data_dict[key][\"salary\"]\n",
    "    salary_bonus = data_dict[key][\"salary\"] + data_dict[key][\"bonus\"]\n",
    "    total_payments = data_dict[key][\"total_payments\"]\n",
    "    total_stock_value = data_dict[key][\"total_stock_value\"]\n",
    "    to_messages = data_dict[key][\"to_messages\"]\n",
    "    from_messages = data_dict[key][\"from_messages\"]\n",
    "    from_poi = data_dict[key][\"from_poi_to_this_person\"]\n",
    "    to_poi = data_dict[key][\"from_this_person_to_poi\"]\n",
    "    cc = data_dict[key]['shared_receipt_with_poi']\n",
    "    exercised_stock = data_dict[key]['exercised_stock_options']\n",
    "\n",
    "    if bonus != 0:\n",
    "        data_dict[key]['bonus_ratio'] = round((bonus/float(total_payments)), 5)\n",
    "    else:\n",
    "        data_dict[key]['bonus_ratio'] = 0\n",
    "    if salary != 0:\n",
    "        data_dict[key]['salary_ratio'] = round((salary/float(total_payments)), 5)\n",
    "    else:\n",
    "        data_dict[key]['salary_ratio'] = 0\n",
    "    if bonus != 0 and salary !=0:\n",
    "        data_dict[key]['pay_ratio'] = round((data_dict[key]['bonus_ratio'] + data_dict[key]['salary_ratio']/2), 5)\n",
    "    else: \n",
    "        data_dict[key]['pay_ratio'] = 0\n",
    "    if total_stock_value != 0:\n",
    "        pay = bonus + salary\n",
    "        data_dict[key]['pay_stock_ratio'] = round((bonus+salary)/float(total_stock_value), 5)\n",
    "    else: \n",
    "        data_dict[key]['pay_stock_ratio'] = 0\n",
    "    if exercised_stock != 0 and total_stock_value != 0:\n",
    "        data_dict[key]['exercised_stock_ratio'] = round((exercised_stock/float(total_stock_value)), 5)\n",
    "    else:\n",
    "        data_dict[key]['exercised_stock_ratio'] = 0\n",
    "    if to_poi != 0 and to_messages != 0:\n",
    "        data_dict[key]['email_to_poi_ratio'] = round(to_poi/float(to_messages), 2)\n",
    "    else: \n",
    "        data_dict[key]['email_to_poi_ratio'] = 0\n",
    "    if from_poi != 0 and from_messages != 0:\n",
    "        data_dict[key]['email_from_poi_ratio'] = round(from_poi/float(from_messages), 2)\n",
    "    else: \n",
    "        data_dict[key]['email_from_poi_ratio'] = 0\n",
    "    if cc != 0 and from_messages != 0:\n",
    "        data_dict[key]['cc_with_poi_ratio'] = round(cc/float(from_messages), 2)\n",
    "    else: \n",
    "        data_dict[key]['cc_with_poi_ratio'] = 0\n"
   ]
  },
  {
   "cell_type": "code",
   "execution_count": 68,
   "metadata": {},
   "outputs": [],
   "source": [
    "features_list = ['salary', 'to_messages', 'deferral_payments', 'total_payments', \n",
    "                 'exercised_stock_options', 'bonus', 'restricted_stock', 'shared_receipt_with_poi', \n",
    "                 'restricted_stock_deferred', 'total_stock_value', 'expenses', 'loan_advances', \n",
    "                 'from_messages', 'other', 'from_this_person_to_poi', 'director_fees', \n",
    "                 'deferred_income', 'long_term_incentive', 'from_poi_to_this_person', 'bonus_ratio',\n",
    "                 'salary_ratio', 'pay_ratio', 'pay_stock_ratio', 'exercised_stock_ratio', \n",
    "                 'email_to_poi_ratio', 'email_from_poi_ratio', 'cc_with_poi_ratio']  \n",
    "\n",
    "### Store to my_dataset for easy export below.\n",
    "my_dataset = data_dict\n",
    "\n",
    "### Extract features and labels from dataset for local testing\n",
    "data = featureFormat(my_dataset, features_list, sort_keys = True)\n",
    "labels, features = targetFeatureSplit(data)"
   ]
  },
  {
   "cell_type": "code",
   "execution_count": 81,
   "metadata": {},
   "outputs": [
    {
     "name": "stdout",
     "output_type": "stream",
     "text": [
      "Score:  [  2.48716212e+01   2.80949114e+01   1.73615175e+03   3.55939474e+01\n",
      "   4.49021229e+02   1.27192800e+02   3.96982933e+01   8.13395482e+00\n",
      "   5.25714899e+01   1.46442016e+00              inf   1.11568026e+02\n",
      "   2.64324333e+03   9.61723598e+01   1.42383283e-01   1.96077602e+02\n",
      "   4.31675627e+01   3.50462323e+01   2.18721120e+02   8.34507220e+01\n",
      "   1.70812969e+02   4.68214465e+01   5.94114759e-01   4.50395941e+01\n",
      "   6.89088057e+00   9.42009343e+00]\n",
      "P-value:  [  1.62125810e+01   1.70643350e+01   4.71425621e+01   1.87328465e+01\n",
      "   3.71756290e+01   2.79226280e+01   1.95081888e+01   8.80005458e+00\n",
      "   2.15171330e+01   9.45273519e-01              inf   2.69665782e+01\n",
      "   5.02438043e+01   2.58854116e+01   5.01156163e-12   3.10888155e+01\n",
      "   2.01055391e+01   1.86229431e+01   3.18900901e+01   2.48545959e+01\n",
      "   3.00783802e+01   2.06864656e+01   1.58792898e-02   2.04088725e+01\n",
      "   7.79413859e+00   9.71668143e+00]\n",
      "salary\n",
      "to_messages\n",
      "deferral_payments\n",
      "total_payments\n",
      "exercised_stock_options\n",
      "bonus\n",
      "restricted_stock\n",
      "shared_receipt_with_poi\n",
      "restricted_stock_deferred\n",
      "total_stock_value\n",
      "expenses\n",
      "loan_advances\n",
      "from_messages\n",
      "other\n",
      "from_this_person_to_poi\n",
      "director_fees\n",
      "deferred_income\n",
      "long_term_incentive\n",
      "from_poi_to_this_person\n",
      "bonus_ratio\n",
      "salary_ratio\n",
      "pay_ratio\n",
      "pay_stock_ratio\n",
      "exercised_stock_ratio\n",
      "email_to_poi_ratio\n",
      "email_from_poi_ratio\n"
     ]
    },
    {
     "name": "stderr",
     "output_type": "stream",
     "text": [
      "C:\\Users\\HP\\Anaconda2\\lib\\site-packages\\ipykernel_launcher.py:40: RuntimeWarning: divide by zero encountered in log10\n"
     ]
    }
   ],
   "source": [
    "### Task 4: Try a varity of classifiers\n",
    "### Please name your classifier clf for easy export below.\n",
    "### Note that if you want to do PCA or other multi-stage operations,\n",
    "### you'll need to use Pipelines. For more info:\n",
    "### http://scikit-learn.org/stable/modules/pipeline.html\n",
    "\n",
    "# Provided to give you a starting point. Try a variety of classifiers.\n",
    "from time import time\n",
    "from sklearn import cross_validation\n",
    "from sklearn.cross_validation import train_test_split, StratifiedShuffleSplit, StratifiedKFold, KFold, cross_val_score\n",
    "from sklearn.metrics import classification_report\n",
    "from sklearn.naive_bayes import GaussianNB\n",
    "from sklearn.metrics import accuracy_score\n",
    "from sklearn.metrics import classification_report\n",
    "\n",
    "# hold out 30% of the data for testing and set the random_state parameter to 42 (random_state controls which points go into the \n",
    "# training set and which are used for testing; setting it to 42 means we know exactly which events are in which set, and can \n",
    "# check the results you get\n",
    "features_train, features_test, labels_train, labels_test = train_test_split(features, labels, test_size=0.3, random_state=42)\n",
    "\n",
    "# Some of the values of the features are quite different (salary vs number of emails), so I will perform feature scaling to\n",
    "# normalize the values.\n",
    "\n",
    "def featureScalingNumpy(arr):\n",
    "    new_list = []\n",
    "    data = np.asarray(arr, dtype = float)\n",
    "    range = data.max() - data.min()\n",
    "    with np.errstate(divide='ignore'):\n",
    "        #vectorized operations, data means each value in array\n",
    "        result = data - data.min()/range\n",
    "        result[range == 0] = 0.5\n",
    "    return result\n",
    "features_train_scaled = featureScalingNumpy(features_train)\n",
    "\n",
    "from sklearn.feature_selection import SelectKBest, f_classif\n",
    "selector = SelectKBest(f_classif, k='all')\n",
    "selector.fit(features_train_scaled, labels_train)\n",
    "new_selector = selector.transform(features_train_scaled)\n",
    "print \"Score: \", selector.scores_\n",
    "pval = -np.log10(selector.pvalues_)\n",
    "print \"P-value: \", pval\n",
    "\n",
    "mask = selector.get_support(indices=True)\n",
    "for index in mask:\n",
    "    print features_list[index]\n",
    "\n",
    "# the features with the ten highest scores: from_messages, deferral_payments, exercised_stock_options, deferred income,\n",
    "# bonus, loan_advances, other, restricted_stock_deferred, long_term_incentive, restricted_stock, total_payments,\n",
    "# from_poi_to_this_person, to_messages, salary, from_this_person_to_poi, cc_with_poi_ratio, shared_receipt_with_poi', \n",
    "# email_from_poi_ratio, salary_ratio, pay_stock_ratio, email_to_poi_ratio, total_stock_value"
   ]
  },
  {
   "cell_type": "code",
   "execution_count": 78,
   "metadata": {},
   "outputs": [
    {
     "name": "stdout",
     "output_type": "stream",
     "text": [
      "Overfit : 1.0\n",
      "training time: 0.016 s\n",
      "prediction time: 0.0 s\n",
      "After split : 0.348837209302\n",
      "             precision    recall  f1-score   support\n",
      "\n",
      "    Not POI       0.75      1.00      0.86        15\n",
      "        POI       0.00      0.00      0.00         1\n",
      "\n",
      "avg / total       0.26      0.35      0.30        43\n",
      "\n"
     ]
    }
   ],
   "source": [
    "clf1 = GaussianNB()\n",
    "clf1.fit(features, labels)\n",
    "print \"Overfit :\", clf1.score(features, labels)\n",
    "\n",
    "clf_NB = GaussianNB()\n",
    "t0=time()\n",
    "clf_NB.fit(features_train, labels_train)\n",
    "print \"training time:\", round(time()-t0,3), \"s\"\n",
    "t1=time()\n",
    "pred = clf_NB.predict(features_test)\n",
    "print \"prediction time:\", round(time()-t1,3), \"s\"\n",
    "print \"After split :\", clf_NB.score(features_test, labels_test)\n",
    "\n",
    "target_names = [\"Not POI\", \"POI\"]\n",
    "print classification_report(y_true=labels_test, y_pred=pred, target_names=target_names)\n",
    "\n",
    "# After splitting the data into training and test sets, the accuracy of the Naive Bayes classifier is 0.35. I will try another \n",
    "# classifier later and see if the accuracy will be higher.\n",
    "\n",
    "# Looking at the scores, I think that the features with the smallest scores can be removed\n",
    "\n",
    "#F-score reveals the discriminative power of each feature independently from others. One score is computed for the first \n",
    "#feature, and another score is computed for the second feature. But it does not indicate anything on the combination of both \n",
    "#features (mutual information). This is the main weakness of F-score."
   ]
  },
  {
   "cell_type": "code",
   "execution_count": 80,
   "metadata": {},
   "outputs": [
    {
     "name": "stdout",
     "output_type": "stream",
     "text": [
      "training time: 0.0 s\n",
      "prediction time: 0.0 s\n",
      "0.348837209302\n"
     ]
    }
   ],
   "source": [
    "# Now I'm going to try decision tree.\n",
    "\n",
    "from sklearn.tree import DecisionTreeClassifier\n",
    "clf_dt = DecisionTreeClassifier(min_samples_split = 40)\n",
    "t0=time()\n",
    "clf_dt.fit(features_train, labels_train)\n",
    "print \"training time:\", round(time()-t0,3), \"s\"\n",
    "t1=time()\n",
    "pred_dt = clf_dt.predict(features_test)\n",
    "print \"prediction time:\", round(time()-t1,3), \"s\"\n",
    "accuracy = accuracy_score(pred_dt, labels_test)\n",
    "print accuracy\n",
    "\n",
    "# the accuracy is slightly less than Naive Bayes."
   ]
  },
  {
   "cell_type": "code",
   "execution_count": null,
   "metadata": {},
   "outputs": [],
   "source": [
    "# Now I'm going to try PCA to aide in feature selection\n",
    "\n",
    "from sklearn.grid_search import GridSearchCV\n",
    "from sklearn.metrics import confusion_matrix\n",
    "from sklearn.decomposition import RandomizedPCA\n",
    "from sklearn.grid_search import GridSearchCV\n",
    "from sklearn.svm import SVC\n",
    "\n",
    "n_components = 20\n",
    "pca = RandomizedPCA(n_components=n_components, whiten=True).fit(features_train)\n",
    "pca.explained_variance_ratio_"
   ]
  },
  {
   "cell_type": "code",
   "execution_count": null,
   "metadata": {
    "collapsed": true
   },
   "outputs": [],
   "source": [
    "### Task 5: Tune your classifier to achieve better than .3 precision and recall \n",
    "### using our testing script. Check the tester.py script in the final project\n",
    "### folder for details on the evaluation method, especially the test_classifier\n",
    "### function. Because of the small size of the dataset, the script uses\n",
    "### stratified shuffle split cross validation. For more info: \n",
    "### http://scikit-learn.org/stable/modules/generated/sklearn.cross_validation.StratifiedShuffleSplit.html\n",
    "\n",
    "# Example starting point. Try investigating other evaluation techniques!\n",
    "from sklearn.cross_validation import train_test_split\n",
    "features_train, features_test, labels_train, labels_test = \\\n",
    "    train_test_split(features, labels, test_size=0.3, random_state=42)\n",
    "\n",
    "### Task 6: Dump your classifier, dataset, and features_list so anyone can\n",
    "### check your results. You do not need to change anything below, but make sure\n",
    "### that the version of poi_id.py that you submit can be run on its own and\n",
    "### generates the necessary .pkl files for validating your results.\n",
    "\n",
    "dump_classifier_and_data(clf, my_dataset, features_list)"
   ]
  },
  {
   "cell_type": "code",
   "execution_count": null,
   "metadata": {
    "collapsed": true
   },
   "outputs": [],
   "source": [
    "pipeline = Pipeline(steps=[('MinMaxScaler', scaler), ('SelectKBest', selector), ('pca', pca), ('GaussianNB', clf_NB)])\n",
    "\n",
    "# for GridSearchCV you precede the parameter names with the names\n",
    "# in the steps of your pipeline, followed by 2 underscores\n",
    "parameters = {'SelectKBest__k': [1,2,3,4,5,6,7,8,9,10,11,12,13,14,15,16,17,18,20],\n",
    "              'pca__n_components':[1,2,3,4,5,6,7,8,9,10,11,12,13,14,15,16,17,18,20]}\n",
    "\n",
    "# choose a validation method for GridSearch CV:\n",
    "sss = StratifiedShuffleSplit(labels, 1000, random_state = 42)\n",
    "\n",
    "gs = grid_search.GridSearchCV(pipeline, parameters, scoring='f1', cv=sss)\n",
    "\n",
    "# if you use StratifiedShuffleSplit, you fit all of the data:\n",
    "gs.fit(features, labels)\n",
    "\n",
    "# the GridSearch scores are given by\n",
    "scores = gs.grid_scores_\n",
    "\n",
    "# Extract the scores from 'scores' that you want for your heat map\n",
    "\n",
    "# The optimal model selected by GridSearchCV\n",
    "best_clf = gs.best_estimator_\n",
    "\n",
    "print '\\nGridSearchCV Best Estimator'\n",
    "print best_clf"
   ]
  }
 ],
 "metadata": {
  "kernelspec": {
   "display_name": "Python 2",
   "language": "python",
   "name": "python2"
  },
  "language_info": {
   "codemirror_mode": {
    "name": "ipython",
    "version": 2
   },
   "file_extension": ".py",
   "mimetype": "text/x-python",
   "name": "python",
   "nbconvert_exporter": "python",
   "pygments_lexer": "ipython2",
   "version": "2.7.14"
  }
 },
 "nbformat": 4,
 "nbformat_minor": 2
}
